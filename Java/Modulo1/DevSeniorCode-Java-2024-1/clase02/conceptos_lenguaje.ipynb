{
 "cells": [
  {
   "cell_type": "markdown",
   "metadata": {},
   "source": [
    "# Conceptos del lenguaje"
   ]
  },
  {
   "cell_type": "markdown",
   "metadata": {},
   "source": [
    "## Definición de variables"
   ]
  },
  {
   "cell_type": "markdown",
   "metadata": {},
   "source": [
    "- En Java, una variable es un **contenedor de datos** que almacena valores durante la ejecución de un programa.  \n",
    "  ![Variables](https://okhosting.com/wp-content/uploads/2019/01/variables-400x250.png)  \n",
    "- **Todas las variables han de declararse antes de usarlas.**\n",
    "- La declaración consiste en una sentencia en la que figura, el **tipo de dato** y el **nombre** (identificador) que asignamos a la variable.  \n",
    "  ```tipo_de_dato nombre_de_variable [= valor_inicial];```\n",
    "  > **OJO**: El tipo de dato de la variable no cambiará después de creada.\n",
    "  > **Recomendación**: El nombre de la variable debe ser nemónica.\n",
    "- Una vez declarada se le podrá asignar valores.\n",
    "\n",
    "Ejemplo:\n",
    "```java\n",
    "int x=0;\n",
    "String nombre=\"Angel\";\n",
    "double a=3.5;\n",
    "boolean bNuevo=true;\n",
    "int[] datos;\n",
    "```\n",
    "\n",
    "- A partir de Java 10 podremos utilizar la palabra reservada **var** para crear objetos sin tener que definir el tipo.  \n",
    "- Java va a _inferir_ el tipo de dato que será la variable a partir del valor que sea asignada al momento de la creación.  \n",
    "- Si no asigna un valor, no se podrá inferir el tipo, por lo tanto no se podrá usar var.  \n",
    "\n",
    "Ejemplo:\n",
    "```java\n",
    "var number = 0;\n",
    "var list = List.of(1, 2, 3);\n",
    "var example = \"example\";\n",
    "var team = new Team();\n",
    "```\n",
    "\n",
    "- En resumen, una variable en Java es una **referencia** a una ubicación de memoria donde se almacenan datos, y su tipo de dato define qué tipo de datos puede contener."
   ]
  },
  {
   "cell_type": "markdown",
   "metadata": {},
   "source": [
    "### Identificadores (nombres)"
   ]
  },
  {
   "cell_type": "code",
   "execution_count": null,
   "metadata": {},
   "outputs": [],
   "source": [
    "// Identificadores válidos\n",
    "MyVariable\n",
    "MYVARIABLE\n",
    "myvariable\n",
    "x\n",
    "i\n",
    "x1\n",
    "i1\n",
    "_myvariable\n",
    "$myvariable\n",
    "sum_of_array\n",
    "javadesdecero"
   ]
  },
  {
   "cell_type": "code",
   "execution_count": null,
   "metadata": {},
   "outputs": [],
   "source": [
    "// Identificadores NO válidos\n",
    "4num \n",
    "z#\n",
    "\"Edad\" \n",
    "Tom's \n",
    "año-nacimiento \n",
    "public \n",
    "__precio:final "
   ]
  },
  {
   "cell_type": "markdown",
   "metadata": {},
   "source": [
    "Un identificador es un nombre que identifica a una variable, a un método o función miembro, a una clase.\n",
    "\n",
    "En Java, se deben cumplir ciertas reglas para componer los identificadores:\n",
    "- Todos los identificadores han de comenzar con una **letra**, el carácter **subrayado** (_) o el carácter **dollar** ($).\n",
    "- Puede incluir, pero **no comenzar** por un número.\n",
    "- No puede incluir el carácter espacio en blanco.\n",
    "- Distingue entre letras mayúsculas y minúsculas.\n",
    "- No se pueden utilizar las palabras reservadas como identificadores."
   ]
  },
  {
   "cell_type": "markdown",
   "metadata": {},
   "source": [
    "##### Palabras reservadas [documentación](https://www.abrirllave.com/java/palabras-clave.php)\n",
    "Las palabras reservadas se pueden clasificar en las siguientes categorías:\n",
    "- **Tipos de datos**: boolean, float, double, int, char\n",
    "- **Sentencias condicionales**: if, else, switch\n",
    "- **Sentencias iterativas**: for, do, while, continue, break, continue\n",
    "- **Tratamiento de las excepciones**: try, catch, finally, throw\n",
    "- **Estructura de datos**: class, interface, implements, extends\n",
    "- **Modificadores y control de acceso**: public, private, protected, transient, abstract\n",
    "- **Otras**: super, null, this."
   ]
  },
  {
   "cell_type": "markdown",
   "metadata": {},
   "source": [
    "##### Recomendaciones importantes:\n",
    "1. **Usa nombres descriptivos**: El nombre de la variable debe reflejar claramente su propósito. Por ejemplo, `edadPersona` es más descriptivo que `e`.\n",
    "1. **Sigue el formato camelCase**: Comienza con una letra minúscula y usa mayúsculas para separar palabras. Por ejemplo, `numeroDeEstudiantes`.\n",
    "1. **Evita abreviaturas confusas**: Usa abreviaturas solo si son ampliamente reconocidas. Evita acrónimos que no sean claros para otros desarrolladores.\n",
    "1. **No uses caracteres especiales**: Evita comenzar nombres de variables con guiones bajos _ o signos de dólar $, aunque Java lo permite, no es una práctica recomendada.\n",
    "1. **Sé consistente**: Mantén un estilo uniforme en todo tu código. Si decides usar camelCase, asegúrate de aplicarlo en todas tus variables.\n",
    "1. **Evita nombres de una sola letra**: Excepto en casos de variables temporales en bucles, como i, j, k."
   ]
  },
  {
   "cell_type": "markdown",
   "metadata": {},
   "source": [
    "### Tipos de datos básicos (primitivos)"
   ]
  },
  {
   "cell_type": "markdown",
   "metadata": {},
   "source": [
    "| Tipo | Por defecto | Tamaño en memoria | Mínimo | Máximo | Sufijo |\n",
    "| --- | --- | --- | --- | --- | --- |\n",
    "| boolean |false | 1 bit | false | true |  |\n",
    "| byte | 0 | 1 byte / 8 bits | -128 | 127 |  |\n",
    "| char | '\\u0000' | 2 bytes / 16 bits | '\\u0000' | '\\uffff' |  |\n",
    "| short | 0 | 2 bytes / 16 bits | -32.768 | 32.767 |  |\n",
    "| int | 0 | 4 bytes / 32 bits | -2.147.483.648 | 2.147.483.647 |  |\n",
    "| long | 0L | 8 bytes / 64 bits | -9.223.372.036.854.775.808 | 9.223.372.036.854.775.807 | L / l |\n",
    "| float | 0.0F | 4 bytes / 32 bits | -3.40282347e38 | 3.40282347e38 | F / f |\n",
    "| double | 0.0 | 8 bytes / 64 bits | -1.79769313486231570E+308 | 1.79769313486231570E+308 | D / d |"
   ]
  },
  {
   "cell_type": "markdown",
   "metadata": {},
   "source": [
    "#### Tipo de dato **boolean** (booleano)"
   ]
  },
  {
   "cell_type": "markdown",
   "metadata": {},
   "source": [
    "| Tipo | Por defecto | Tamaño en memoria | Mínimo | Máximo |\n",
    "| --- | --- | --- | --- | --- |\n",
    "| boolean |false | 1 bit | false | true |\n",
    "\n",
    "Representa un valor de una proposición lógica: falso o verdadero."
   ]
  },
  {
   "cell_type": "code",
   "execution_count": null,
   "metadata": {},
   "outputs": [],
   "source": [
    "true\n",
    "false"
   ]
  },
  {
   "cell_type": "markdown",
   "metadata": {},
   "source": [
    "#### Tipos de datos para números enteros"
   ]
  },
  {
   "cell_type": "markdown",
   "metadata": {},
   "source": [
    "| Tipo | Por defecto | Tamaño en memoria | Mínimo | Máximo | Sufijo |\n",
    "| --- | --- | --- | --- | --- | --- |\n",
    "| byte | 0 | 1 byte / 8 bits | -128 | 127 |  |\n",
    "| short | 0 | 2 bytes / 16 bits | -32.768 | 32.767 |  |\n",
    "| **int** | 0 | 4 bytes / 32 bits | -2.147.483.648 | 2.147.483.647 |  |\n",
    "| long | 0L | 8 bytes / 64 bits | -9.223.372.036.854.775.808 | 9.223.372.036.854.775.807 | L / l |"
   ]
  },
  {
   "cell_type": "code",
   "execution_count": null,
   "metadata": {},
   "outputs": [],
   "source": [
    "byte valor = 10;\n",
    "short corto = 1055;\n",
    "int entero = 1007755;\n",
    "long largo = 1571L; \n",
    "\n",
    "var valor = 10233; // Es un int\n",
    "\n",
    "var valorNormal = 132565778900L; // Sin formato\n",
    "var valorSeparado = 132_565_778_900L; // Con formato"
   ]
  },
  {
   "cell_type": "markdown",
   "metadata": {},
   "source": [
    "- Estos representan los valores numéricos que **no** tienen parte decimal.\n",
    "- Dependiendo de si tamaño en bytes, tiene un rango de valores que se pueden representar con este tipo de dato.\n",
    "  - byte\n",
    "  - short\n",
    "  - int (_por defecto_)\n",
    "  - long\n",
    "- Por defecto los números enteros literales que usemos en el código, se entenderán que son de tipo **int**.\n",
    "- Para poder decir que un número entero literal es de tipo **long**, debemos agregar al final la letra **L** o **l**.\n",
    "- En los números enteros literales, podemos usar el **guion bajo** (_) como símbolo separador de miles para mejorar la legibilidad. Java lo ignorará al momento de operar on ellos."
   ]
  },
  {
   "cell_type": "markdown",
   "metadata": {},
   "source": [
    "#### Tipos de datos para números decimales o flotantes"
   ]
  },
  {
   "cell_type": "markdown",
   "metadata": {},
   "source": [
    "| Tipo | Por defecto | Tamaño en memoria | Mínimo | Máximo | Sufijo | Precisión |\n",
    "| --- | --- | --- | --- | --- | --- | --- |\n",
    "| float | 0.0F | 4 bytes / 32 bits | -3.40282347e38 | 3.40282347e38 | F / f | 6-7 dígitos |\n",
    "| **double** | 0.0 | 8 bytes / 64 bits | -1.79769313486231570E+308 | 1.79769313486231570E+308 | D / d | 15 dígitos |"
   ]
  },
  {
   "cell_type": "code",
   "execution_count": null,
   "metadata": {},
   "outputs": [],
   "source": [
    "float valor = 10.0f;\n",
    "double decimal = 1055.125;\n",
    "\n",
    "var valor = 102.33; // Es un double\n",
    "\n",
    "var valorNormal = 132565778900d;\n",
    "var valorSeparado = 132_565_778_900.0005;\n",
    "\n",
    "var notacionCientifica = 35e3; // 35000\n",
    "var otraNotacionCientifica = 15e-5; // 0.00015"
   ]
  },
  {
   "cell_type": "markdown",
   "metadata": {},
   "source": [
    "- Estos representan los valores numéricos que **si** tienen parte decimal.\n",
    "- El símbolo que separa el valor entero del decimal es el **punto** (.)\n",
    "- Dependiendo de si tamaño en bytes, tiene un rango de valores que se pueden representar con este tipo de dato.\n",
    "  - float\n",
    "  - double (_por defecto_)\n",
    "- Por defecto los números decimales literales que usemos en el código, se entenderán que son de tipo **double**.\n",
    "- Para poder decir que un número decimal literal es de tipo **float**, debemos agregar al final la letra **F** o **f**.\n",
    "- En los números decimales literales, también podemos usar el **guion bajo** (_) como símbolo separador de miles para mejorar la legibilidad. Java lo ignorará al momento de operar on ellos."
   ]
  },
  {
   "cell_type": "markdown",
   "metadata": {},
   "source": [
    "#### Tipo de dato **char** (carácter)"
   ]
  },
  {
   "cell_type": "markdown",
   "metadata": {},
   "source": [
    "| Tipo | Por defecto | Tamaño en memoria | Mínimo | Máximo |\n",
    "| --- | --- | --- | --- | --- |\n",
    "| char | '\\u0000' | 2 bytes / 16 bits | '\\u0000' | '\\uffff' |"
   ]
  },
  {
   "cell_type": "code",
   "execution_count": null,
   "metadata": {},
   "outputs": [],
   "source": [
    "char letra = 'A';\n",
    "var letra = 'B';"
   ]
  },
  {
   "cell_type": "markdown",
   "metadata": {},
   "source": [
    "- En Java los caracteres no están restringidos a los [ASCII](https://elcodigoascii.com.ar/) sino que son [Unicode](https://symbl.cc/es/unicode-table/).\n",
    "- Un carácter está siempre rodeado de **comillas simples** (') como 'A', '9', 'ñ', etc.\n",
    "- Un tipo especial de carácter es la **secuencia de escape**, que se utilizan para representar caracteres de control o caracteres que no se imprimen.\n",
    "  | Secuencia de escape | Descripción |\n",
    "  | :-: | --- |\n",
    "  | `\\t` | Tabulación horizontal |\n",
    "  | `\\b` | Retroceso (backspace) |\n",
    "  | `\\n` | Salto de línea |\n",
    "  | `\\r` | Retorno de carro |\n",
    "  | `\\f` | Avance de página |\n",
    "  | `\\\"` | Comilla doble |\n",
    "  | `\\'` | Comilla simple |\n",
    "  | `\\\\` | Barra diagonal |\n",
    "  | `\\0` | Fin de archivo |\n",
    "\n",
    "- Para indicar un carácter Unicode que no puede ser representado en ASCII, como 'ö', se utilizado la secuencia de escape **'\\udddd'** donde cada **d** en la secuencia de escape es un dígito hexadecimal.\n",
    "  ```java\n",
    "  '\\u00F6' = 'ö'\n",
    "  ```"
   ]
  },
  {
   "cell_type": "markdown",
   "metadata": {},
   "source": [
    "### Tipo de dato especial **String** (cadena de caracteres)"
   ]
  },
  {
   "cell_type": "code",
   "execution_count": null,
   "metadata": {},
   "outputs": [],
   "source": [
    "String cadena = \"Hola\\nMundo!\";\n",
    "var nombre = \"César Augusto Díaz Arriaga\";\n",
    "var emoji = \"\\uD83D\\uDE00\"; // 😀"
   ]
  },
  {
   "cell_type": "markdown",
   "metadata": {},
   "source": [
    "- **String** define y admite cadenas o secuencia de caracteres.\n",
    "- Se define como una colección de caracteres char encerradas en **comillas dobles** (\").\n",
    "  ```java\n",
    "  \"Hola Mundo\"\n",
    "  ```\n",
    "- En algunos otros lenguajes de programación, una cadena o string es una matriz o array de caracteres. Este no es el caso con Java. **Los Strings son objetos**."
   ]
  },
  {
   "cell_type": "markdown",
   "metadata": {},
   "source": [
    "### Ejercicios\n",
    "Estos ejercicios te ayudarán a recordar los distintos tipos de datos básicos de Java y las reglas para el nombrado de variables.  \n",
    "**Nota**: Piensa en que tipo de dato es el mas adecuado en uso de memoria para cada una de las variables."
   ]
  },
  {
   "cell_type": "markdown",
   "metadata": {},
   "source": [
    "#### Ejercicio 1: Defina una variable para contener el valor del numero de estudiantes"
   ]
  },
  {
   "cell_type": "code",
   "execution_count": null,
   "metadata": {},
   "outputs": [],
   "source": [
    "int numeroDeEstudiantes;\n",
    "int n;"
   ]
  },
  {
   "cell_type": "markdown",
   "metadata": {},
   "source": [
    "#### Ejercicio 2: Defina una variable para contener el valor del salario mensual"
   ]
  },
  {
   "cell_type": "code",
   "execution_count": 13,
   "metadata": {},
   "outputs": [],
   "source": [
    "double salarioMensual;\n",
    "double $sm;"
   ]
  },
  {
   "cell_type": "markdown",
   "metadata": {},
   "source": [
    "#### Ejercicio 3: Defina una variable para contener el valor de si un elemento está activo o no"
   ]
  },
  {
   "cell_type": "code",
   "execution_count": null,
   "metadata": {},
   "outputs": [],
   "source": [
    "boolean esActivo;\n",
    "boolean _activo;"
   ]
  },
  {
   "cell_type": "markdown",
   "metadata": {},
   "source": [
    "#### Ejercicio 4: Defina una variable para contener el nombre completo de una persona"
   ]
  },
  {
   "cell_type": "code",
   "execution_count": null,
   "metadata": {},
   "outputs": [],
   "source": [
    "String nombreCompleto;\n",
    "String nombre_completo;"
   ]
  },
  {
   "cell_type": "markdown",
   "metadata": {},
   "source": [
    "#### Ejercicio 5: Defina una variable para contener el valor de la temperatura actual"
   ]
  },
  {
   "cell_type": "code",
   "execution_count": null,
   "metadata": {},
   "outputs": [],
   "source": [
    "float temperaturaActual;\n",
    "float temp;"
   ]
  },
  {
   "cell_type": "markdown",
   "metadata": {},
   "source": [
    "#### Ejercicio 6: Defina una variable para contener el valor de la inicial del apelido de una persona"
   ]
  },
  {
   "cell_type": "code",
   "execution_count": null,
   "metadata": {},
   "outputs": [],
   "source": [
    "char inicialDelApellido;\n",
    "char i;"
   ]
  },
  {
   "cell_type": "markdown",
   "metadata": {},
   "source": [
    "#### Ejercicio 7: Defina una variable para contener el numero de teléfono de una persona"
   ]
  },
  {
   "cell_type": "code",
   "execution_count": null,
   "metadata": {},
   "outputs": [],
   "source": [
    "long numeroDeTelefono;\n",
    "long numTel;"
   ]
  },
  {
   "cell_type": "markdown",
   "metadata": {},
   "source": [
    "#### Ejercicio 8: Defina una variable para contener la edad del usuario"
   ]
  },
  {
   "cell_type": "code",
   "execution_count": null,
   "metadata": {},
   "outputs": [],
   "source": [
    "byte edadDelUsuario;\n",
    "byte e;"
   ]
  },
  {
   "cell_type": "markdown",
   "metadata": {},
   "source": [
    "#### Ejercicio 9: Defina una variable para contener la cantidad de productos en un pedido"
   ]
  },
  {
   "cell_type": "code",
   "execution_count": null,
   "metadata": {},
   "outputs": [],
   "source": [
    "short cantidadDeProductos;\n",
    "short cantProd;"
   ]
  },
  {
   "cell_type": "markdown",
   "metadata": {},
   "source": [
    "#### Ejercicio 10: Defina una variable para contener el valor de si un niño tiene permiso de algo que quiere hacer"
   ]
  },
  {
   "cell_type": "code",
   "execution_count": 12,
   "metadata": {},
   "outputs": [],
   "source": [
    "boolean tienePermiso;\n",
    "boolean permiso;"
   ]
  },
  {
   "cell_type": "markdown",
   "metadata": {},
   "source": [
    "## Expresiones"
   ]
  },
  {
   "cell_type": "markdown",
   "metadata": {},
   "source": [
    "En Java, una expresión es una combinación de valores, variables, operadores e invocaciones de métodos que se evalúan para producir un valor único.  \n",
    "Las expresiones son fundamentales en la programación porque permiten realizar cálculos, asignar valores y controlar el flujo del programa."
   ]
  },
  {
   "cell_type": "markdown",
   "metadata": {},
   "source": [
    "### Expresiones de asignación"
   ]
  },
  {
   "cell_type": "markdown",
   "metadata": {},
   "source": [
    "Las expresiones de asignación son fundamentales para almacenar y actualizar valores en variables.  \n",
    "Estas expresiones utilizan el operador de asignación **=** para asignar el resultado de una expresión a una variable. \n",
    "\n",
    "| Operador | Descripción | Ejemplo | Resultado |\n",
    "| :-: | --- | --- | --- |\n",
    "| `=` | Operador de asignación | `n = 4` | n vale 4 |\n",
    "\n",
    "Estructura:\n",
    "```java\n",
    "variable = expresión;\n",
    "```\n",
    "- **variable**: Es el nombre de la variable a la que se le asignará el valor.\n",
    "- **expresión**: Es cualquier expresión válida en Java cuyo resultado se asignará a la variable."
   ]
  },
  {
   "cell_type": "code",
   "execution_count": null,
   "metadata": {},
   "outputs": [],
   "source": [
    "int a = 5; // Asigna el valor 5 a la variable 'a'\n",
    "double b = 3.14; // Asigna el valor 3.14 a la variable 'b'\n",
    "String nombre = \"Juan\"; // Asigna la cadena \"Juan\" a la variable 'nombre'"
   ]
  },
  {
   "cell_type": "markdown",
   "metadata": {},
   "source": [
    "### Expresiones aritméticas"
   ]
  },
  {
   "cell_type": "markdown",
   "metadata": {},
   "source": [
    "Las expresiones aritméticas en Java son combinaciones de valores, variables y operadores que se evalúan para producir un resultado numérico. "
   ]
  },
  {
   "cell_type": "markdown",
   "metadata": {},
   "source": [
    "#### Operadores aritméticos"
   ]
  },
  {
   "cell_type": "markdown",
   "metadata": {},
   "source": [
    "| Operador | Descripción | Ejemplo | Resultado |\n",
    "| :-: | --- | --: | --: |\n",
    "| `-` | Operador unario de cambio de signo | `-4` | `-4` |\n",
    "| `+` | Suma | `2.5 + 7.1` | `9.6` |\n",
    "| `-` | Resta | `235.6 - 103.5` | `132.1` |\n",
    "| `*` | Producto (Multiplicación) | `1.2 * 1.1` | `1.32` |\n",
    "| `/` | División | `0.05 / 0.2` | `0.25` |\n",
    "| `/` | División (entera) | `7 / 2` | `3` |\n",
    "| `%` | Resto de la división entera (módulo) | `20 % 7` | `6` |"
   ]
  },
  {
   "cell_type": "code",
   "execution_count": null,
   "metadata": {},
   "outputs": [],
   "source": [
    "int a = 10;\n",
    "int b = 5;\n",
    "\n",
    "// Suma\n",
    "int suma = a + b;\n",
    "System.out.println(\"Suma: \" + suma); // Output: 15\n",
    "\n",
    "// Resta\n",
    "int resta = a - b;\n",
    "System.out.println(\"Resta: \" + resta); // Output: 5\n",
    "\n",
    "// Multiplicación\n",
    "int multiplicacion = a * b;\n",
    "System.out.println(\"Multiplicación: \" + multiplicacion); // Output: 50\n",
    "\n",
    "// División\n",
    "int division = a / b;\n",
    "System.out.println(\"División: \" + division); // Output: 2\n",
    "\n",
    "// Módulo\n",
    "int modulo = a % b;\n",
    "System.out.println(\"Módulo: \" + modulo); // Output: 0"
   ]
  },
  {
   "cell_type": "markdown",
   "metadata": {},
   "source": [
    "#### Operadores de acumulación (Incremento y Decremento)"
   ]
  },
  {
   "cell_type": "markdown",
   "metadata": {},
   "source": [
    "\n",
    "| Operador | Descripción | Ejemplo | Resultado |\n",
    "| --- | --- | :-: | :-: |\n",
    "| `++` | Suma y asigna | `a += b` | `a = a + b` |\n",
    "| `--` | Resta y asigna | `a -= b` | `a = a - b` |\n",
    "\n",
    "Los operadores ++ y -- en Java se utilizan para incrementar o decrementar el valor de una variable en 1, respectivamente.  \n",
    "Estos operadores pueden ser utilizados en dos formas: **prefijo** y **sufijo**, y cada forma tiene un comportamiento ligeramente diferente.\n",
    "\n",
    "##### Operador de Incremento (++)\n",
    "- **Prefijo** (`++variable`): Incrementa el valor de la variable antes de que se utilice en la expresión.\n",
    "- **Sufijo** (`variable++`): Incrementa el valor de la variable después de que se utilice en la expresión.\n",
    "##### Operador de Decremento (--)\n",
    "- **Prefijo** (`--variable`): Decrementa el valor de la variable antes de que se utilice en la expresión.\n",
    "- **Sufijo** (`variable--`): Decrementa el valor de la variable después de que se utilice en la expresión."
   ]
  },
  {
   "cell_type": "code",
   "execution_count": null,
   "metadata": {},
   "outputs": [],
   "source": [
    "int a = 5;\n",
    "int b = 5;\n",
    "\n",
    "// Incremento prefijo\n",
    "System.out.println(\"++a: \" + ++a); // Output: 6\n",
    "// Incremento sufijo\n",
    "System.out.println(\"b++: \" + b++); // Output: 5\n",
    "System.out.println(\"b después de b++: \" + b); // Output: 6\n",
    "\n",
    "int c = 5;\n",
    "int d = 5;\n",
    "\n",
    "// Decremento prefijo\n",
    "System.out.println(\"--c: \" + --c); // Output: 4\n",
    "// Decremento sufijo\n",
    "System.out.println(\"d--: \" + d--); // Output: 5\n",
    "System.out.println(\"d después de d--: \" + d); // Output: 4"
   ]
  },
  {
   "cell_type": "markdown",
   "metadata": {},
   "source": [
    "#### Operadores de asignación compuesta"
   ]
  },
  {
   "cell_type": "markdown",
   "metadata": {},
   "source": [
    "Estos combinan una operación aritmética con una asignación.  \n",
    "Estos operadores son útiles para simplificar el código y hacer las operaciones más concisas.\n",
    "\n",
    "| Operador | Descripción | Ejemplo | Resultado |\n",
    "| :-: | --- | :-: | :-: |\n",
    "| `+=` | Suma y asigna | `a += b` | `a = a + b` |\n",
    "| `-=` | Resta y asigna | `a -= b` | `a = a - b` |\n",
    "| `*=` | Multiplica y asigna | `a *= b` | `a = a * b` |\n",
    "| `/=` | Divide y asigna | `a /= b` | `a = a / b` |\n",
    "| `%=` | Calcula el módulo y asigna | `a %= b` | `a = a % b` |"
   ]
  },
  {
   "cell_type": "code",
   "execution_count": null,
   "metadata": {},
   "outputs": [],
   "source": [
    "int x = 10;\n",
    "x += 5; // Ahora x es 15\n",
    "x -= 3; // Ahora x es 12\n",
    "x *= 2; // Ahora x es 24\n",
    "x /= 4; // Ahora x es 6\n",
    "x %= 5; // Ahora x es 1"
   ]
  },
  {
   "cell_type": "markdown",
   "metadata": {},
   "source": [
    "#### Precedencia de operadores aritméticos"
   ]
  },
  {
   "cell_type": "markdown",
   "metadata": {},
   "source": [
    "La precedencia de operadores en Java determina el orden en que se evalúan los operadores en una expresión.  \n",
    "Esto es crucial para asegurar que las operaciones se realicen en el orden correcto, similar a cómo se manejan las operaciones matemáticas.\n",
    "\n",
    "| Prioridad | Operador |\n",
    "| :-: | --- |\n",
    "| 1 | **Operadores Postfijos**: expr++, expr-- |\n",
    "| 2 | **Operadores Unarios**: ++expr, --expr, -expr |\n",
    "| 3 | **Multiplicación y División**: *, /, % |\n",
    "| 4 | **Suma y Resta**: +, - |\n",
    "| 5 | **Asignación**: =, +=, -=, *=, /=, %= |\n",
    "\n",
    "Operadores de mayor precedencia (número de prioridad mas pequeño) se evalúan antes que los de menor precedencia.\n",
    "Operadores con la misma precedencia se evalúan de izquierda a derecha (asociatividad de izquierda) dependiendo del operador.\n",
    "##### Uso de Paréntesis\n",
    "Los paréntesis se utilizan para **alterar la precedencia** natural de los operadores.\n"
   ]
  },
  {
   "cell_type": "code",
   "execution_count": null,
   "metadata": {},
   "outputs": [],
   "source": [
    "13 - 4 * ( 5 - 2 ) + 3 * ( 2 + 8 )\n",
    "13 - 4 *      3     + 3 *     10\n",
    "13 -   12          +    30\n",
    "31"
   ]
  },
  {
   "cell_type": "code",
   "execution_count": null,
   "metadata": {},
   "outputs": [],
   "source": [
    "int a = 10;\n",
    "int b = 5;\n",
    "int c = 2;\n",
    "\n",
    "// Ejemplo de precedencia\n",
    "int resultado = a + b * c; // Multiplicación se realiza primero\n",
    "System.out.println(\"Resultado: \" + resultado); // Output: 20\n",
    "\n",
    "// Uso de paréntesis para alterar la precedencia\n",
    "resultado = (a + b) * c; // Suma se realiza primero\n",
    "System.out.println(\"Resultado con paréntesis: \" + resultado); // Output: 30"
   ]
  },
  {
   "cell_type": "markdown",
   "metadata": {},
   "source": [
    "En el ejemplo anterior, sin paréntesis, la multiplicación se realiza antes que la suma debido a su mayor precedencia. Al usar paréntesis, forzamos a que la suma se realice primero."
   ]
  },
  {
   "cell_type": "markdown",
   "metadata": {},
   "source": [
    "## Ejercicios"
   ]
  },
  {
   "cell_type": "code",
   "execution_count": null,
   "metadata": {},
   "outputs": [],
   "source": [
    "int a = 10;\n",
    "int b = 5;\n",
    "int suma = a + b;\n",
    "int resta = a - b;\n",
    "int multiplicacion = a * b;\n",
    "int division = a / b;\n",
    "int modulo = a % b;\n",
    "\n",
    "a += 3;\n",
    "b *= 2;\n",
    "\n",
    "a++;\n",
    "b--;\n",
    "\n",
    "System.out.println(\"Suma: \" + suma);\n",
    "System.out.println(\"Resta: \" + resta);\n",
    "System.out.println(\"Multiplicación: \" + multiplicacion);\n",
    "System.out.println(\"División: \" + division);\n",
    "System.out.println(\"Módulo: \" + modulo);\n",
    "System.out.println(\"a después de += 3: \" + a);\n",
    "System.out.println(\"b después de *= 2: \" + b);\n",
    "System.out.println(\"a después de ++: \" + a);\n",
    "System.out.println(\"b después de --: \" + b);"
   ]
  },
  {
   "cell_type": "code",
   "execution_count": null,
   "metadata": {},
   "outputs": [],
   "source": [
    "int a = 10;\n",
    "int b = 20;\n",
    "a = b + 5;\n",
    "System.out.println(\"El valor de a es: \" + a);\n",
    "\n",
    "a += 10;\n",
    "System.out.println(\"El valor de a es: \" + a);"
   ]
  },
  {
   "cell_type": "code",
   "execution_count": null,
   "metadata": {},
   "outputs": [],
   "source": [
    "var ejercicio1 = 16 + 3 * (6 - 4) - 3 * 5;\n",
    "System.out.print(\"Ejercicio 1: \" + ejercicio1);"
   ]
  },
  {
   "cell_type": "code",
   "execution_count": null,
   "metadata": {},
   "outputs": [],
   "source": [
    "var ejercicio2 = 23 - 8 + 6 * 2 - 3 * 4;\n",
    "System.out.print(\"Ejercicio 2: \" + ejercicio2);"
   ]
  },
  {
   "cell_type": "code",
   "execution_count": null,
   "metadata": {},
   "outputs": [],
   "source": [
    "var ejercicio3 = 6 * (7 * 5 - 4 * 6) + 81 / 9 - 6;\n",
    "System.out.print(\"Ejercicio 3: \" + ejercicio3);"
   ]
  },
  {
   "cell_type": "code",
   "execution_count": null,
   "metadata": {},
   "outputs": [],
   "source": [
    "var ejercicio4 = 6 * 4 + 3 * (450 / 10 - 5 * (3 + 2));\n",
    "System.out.print(\"Ejercicio 4: \" + ejercicio4);"
   ]
  },
  {
   "cell_type": "code",
   "execution_count": null,
   "metadata": {},
   "outputs": [],
   "source": [
    "var ejercicio5 = 5 * 6 / 2 - (12 - 3) * 2;\n",
    "System.out.print(\"Ejercicio 5: \" + ejercicio5);"
   ]
  }
 ],
 "metadata": {
  "kernelspec": {
   "display_name": "Java",
   "language": "java",
   "name": "java"
  },
  "language_info": {
   "codemirror_mode": "java",
   "file_extension": ".jshell",
   "mimetype": "text/x-java-source",
   "name": "java",
   "pygments_lexer": "java",
   "version": "17.0.10+7"
  }
 },
 "nbformat": 4,
 "nbformat_minor": 2
}
