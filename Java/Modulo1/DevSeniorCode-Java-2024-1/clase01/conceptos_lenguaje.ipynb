{
 "cells": [
  {
   "cell_type": "markdown",
   "metadata": {},
   "source": [
    "# Conceptos del lenguaje"
   ]
  },
  {
   "cell_type": "markdown",
   "metadata": {},
   "source": [
    "## Comentarios"
   ]
  },
  {
   "cell_type": "markdown",
   "metadata": {},
   "source": [
    "Los comentarios en Java son fragmentos de texto que se incluyen en el código fuente para proporcionar información adicional sobre cómo funciona el código, su propósito o cualquier otra aclaración relevante.  \n",
    "Los comentarios son ignorados por el compilador, lo que significa que no afectan la ejecución del programa y están presentes únicamente para ayudar a los desarrolladores a entender y mantener el código."
   ]
  },
  {
   "cell_type": "markdown",
   "metadata": {},
   "source": [
    "### Comentarios de una sola línea\n",
    "- Se utilizan para notas breves o explicaciones de líneas individuales.\n",
    "- Comienzan con `//` y se extienden hasta el final de la línea."
   ]
  },
  {
   "cell_type": "code",
   "execution_count": 1,
   "metadata": {},
   "outputs": [],
   "source": [
    "// Este es un comentario de una sola línea\n",
    "int a = 5; // Declaración de variable"
   ]
  },
  {
   "cell_type": "markdown",
   "metadata": {},
   "source": [
    "### Comentarios de múltiples líneas:\n",
    "- Se utilizan para descripciones más extensas o para desactivar bloques de código.\n",
    "- Comienzan con `/*` y terminan con `*/`."
   ]
  },
  {
   "cell_type": "code",
   "execution_count": null,
   "metadata": {},
   "outputs": [],
   "source": [
    "/* Este es un comentario\n",
    "   de múltiples líneas */\n",
    "int b = 10;"
   ]
  },
  {
   "cell_type": "markdown",
   "metadata": {},
   "source": [
    "### Comentarios de documentación (Javadoc):\n",
    "- Se utilizan para generar documentación del código usando Javadoc.\n",
    "- Comienzan con `/**` y terminan con `*/`.\n",
    "- Incluyen etiquetas especiales como `@param`, `@return`, etc."
   ]
  },
  {
   "cell_type": "code",
   "execution_count": null,
   "metadata": {},
   "outputs": [],
   "source": [
    "/**\n",
    " * Calcula la suma de dos números.\n",
    " * @param num1 El primer número.\n",
    " * @param num2 El segundo número.\n",
    " * @return La suma de num1 y num2.\n",
    " */\n",
    "public int sumar(int num1, int num2) {\n",
    "    return num1 + num2;\n",
    "}"
   ]
  },
  {
   "cell_type": "markdown",
   "metadata": {},
   "source": [
    "### Buenas Prácticas al Escribir Comentarios\n",
    "- **Ser conciso y claro**: Los comentarios deben ser breves y directos al punto.\n",
    "- **Mantener los comentarios actualizados**: Asegúrate de que los comentarios reflejen siempre el estado actual del código.\n",
    "- **Evitar comentarios redundantes**: No comentes lo obvio; los comentarios deben agregar valor.\n",
    "- **Utilizar el tipo de comentario adecuado**: Usa comentarios de una sola línea para notas breves y comentarios de múltiples líneas para explicaciones más largas.\n",
    "- **Utilizar el formato adecuado**: Especialmente en comentarios de documentación, sigue las convenciones de formato para que las herramientas de documentación puedan procesarlos correctamente."
   ]
  },
  {
   "cell_type": "markdown",
   "metadata": {},
   "source": [
    "## Sentencias"
   ]
  },
  {
   "cell_type": "markdown",
   "metadata": {},
   "source": [
    "- Las sentencias acaban con **punto y coma** (;). Este carácter separa una sentencia de la siguiente.\n",
    "- Los espacios en blanco solo son necesarios para la legibilidad, no importa en la interpretación del código.\n",
    "\n",
    "Ejemplo:\n",
    "```java\n",
    "int i=1;\n",
    "import java.awt.*;\n",
    "System.out.println(\"El primer programa\");\n",
    "rect.mover(10, 20);\n",
    "```"
   ]
  },
  {
   "cell_type": "markdown",
   "metadata": {},
   "source": [
    "## Bloques de código"
   ]
  },
  {
   "cell_type": "markdown",
   "metadata": {},
   "source": [
    "- Un bloque de código es un grupo de sentencias que se comportan como una unidad.\n",
    "- Un bloque de código está limitado por las llaves de apertura `{` y cierre `}`.\n",
    "- Un bloque de código **NO** termina con **punto y coma** (;)."
   ]
  },
  {
   "cell_type": "code",
   "execution_count": null,
   "metadata": {},
   "outputs": [],
   "source": [
    "{\n",
    "    saludo=\"Hola mundo\";\n",
    "    System.out.println(saludo);\n",
    "}"
   ]
  },
  {
   "cell_type": "markdown",
   "metadata": {},
   "source": [
    "## Estructura de un archivo Java"
   ]
  },
  {
   "cell_type": "code",
   "execution_count": 1,
   "metadata": {},
   "outputs": [],
   "source": [
    "public class HolaMundo {\n",
    "    public static void main(String[] args) {\n",
    "        System.out.println(\"Hola Mundo!\");\n",
    "    }\n",
    "}"
   ]
  },
  {
   "cell_type": "markdown",
   "metadata": {},
   "source": [
    "1. El nombre del archivo **.java** debe ser igual al nombre de la estructura _class_ que se encuentra dentro de ella.\n",
    "1. El archivo **.java** sólo contiene el código fuente. Para generar el archivo que puede ejecutar la máquina virtual, es necesario pasarlo por el compilador usando el comando `javac <Clase>.java` que genera el archivo `<Clase>.class`.\n",
    "1. Para ejecutar la aplicación, usamos el comando `java <Clase>` el cual se encarga de iniciar la máquina virtual y ejecutar el archivo **.class** con el nombre `<Clase>`.\n",
    "1. Para que la clase se pueda ejecutar con el comando `java`, es necesario que incluya un método especial llamado `main` que debe ser publico (`public`) y estático (`static`)."
   ]
  },
  {
   "cell_type": "markdown",
   "metadata": {},
   "source": [
    "## Mostrar información en pantalla"
   ]
  },
  {
   "cell_type": "markdown",
   "metadata": {},
   "source": [
    "### System.out.print()\n",
    "Muestra texto en la consola **sin** un salto de línea al final."
   ]
  },
  {
   "cell_type": "code",
   "execution_count": null,
   "metadata": {},
   "outputs": [],
   "source": [
    "System.out.print(\"Hola, \");\n",
    "System.out.print(\"mundo\");\n",
    "System.out.print(\"!\");\n",
    "\n",
    "// Salida: Hola, mundo!"
   ]
  },
  {
   "cell_type": "markdown",
   "metadata": {},
   "source": [
    "### System.out.println()\n",
    "Muestra texto en la consola **con** un salto de línea al final."
   ]
  },
  {
   "cell_type": "code",
   "execution_count": null,
   "metadata": {},
   "outputs": [],
   "source": [
    "System.out.println(\"Hola Mundo!\");\n",
    "// Salida: Hola, mundo!"
   ]
  },
  {
   "cell_type": "markdown",
   "metadata": {},
   "source": [
    "### System.out.printf()\n",
    "Permite formatear la salida de texto de manera más controlada, similar a `printf` en lenguaje C."
   ]
  },
  {
   "cell_type": "code",
   "execution_count": null,
   "metadata": {},
   "outputs": [],
   "source": [
    "int edad = 25;\n",
    "System.out.printf(\"Tienes %d años.\\n\", edad);\n",
    "// Salida: Tienes 25 años."
   ]
  },
  {
   "cell_type": "markdown",
   "metadata": {},
   "source": [
    "#### Mas información sobre los formatos de `printf`**:\n",
    "- [Java printf() - Print Formatted String to Console](https://www.digitalocean.com/community/tutorials/java-printf-method)\n",
    "- [Formatting Output with printf() in Java](https://www.baeldung.com/java-printstream-printf)\n",
    "- [Java Output printf() Method](https://www.w3schools.com/java/ref_output_printf.asp)\n",
    "- [java.util.Formatter API Specification](https://docs.oracle.com/en/java/javase/21/docs/api/java.base/java/util/Formatter.html)"
   ]
  },
  {
   "cell_type": "markdown",
   "metadata": {},
   "source": [
    "## Recibiendo datos del usuario (por teclado)"
   ]
  },
  {
   "cell_type": "markdown",
   "metadata": {},
   "source": [
    "### Clase `Scanner`\n",
    "La clase `Scanner` de `java.util` es la forma más común y sencilla de leer datos del usuario."
   ]
  },
  {
   "cell_type": "code",
   "execution_count": null,
   "metadata": {},
   "outputs": [],
   "source": [
    "import java.util.Scanner;\n",
    "\n",
    "Scanner scanner = new Scanner(System.in);\n",
    "\n",
    "System.out.print(\"Introduce tu nombre: \");\n",
    "String nombre = scanner.nextLine();\n",
    "\n",
    "System.out.print(\"Introduce tu edad: \");\n",
    "int edad = scanner.nextInt();\n",
    "\n",
    "System.out.printf(\"Hola %s, tienes %d años.\\n\", nombre, edad);\n",
    "\n",
    "scanner.close();"
   ]
  },
  {
   "cell_type": "markdown",
   "metadata": {},
   "source": [
    "### Clase `BufferedReader`\n",
    "Utiliza `BufferedReader` y `InputStreamReader` de `java.io` para leer datos del usuario."
   ]
  },
  {
   "cell_type": "code",
   "execution_count": null,
   "metadata": {},
   "outputs": [],
   "source": [
    "import java.io.BufferedReader;\n",
    "import java.io.InputStreamReader;\n",
    "\n",
    "BufferedReader reader = new BufferedReader(new InputStreamReader(System.in));\n",
    "\n",
    "System.out.print(\"Introduce tu nombre: \");\n",
    "String nombre = reader.readLine();\n",
    "\n",
    "System.out.print(\"Introduce tu edad: \");\n",
    "int edad = Integer.parseInt(reader.readLine());\n",
    "\n",
    "System.out.println(\"Hola \" + nombre + \", tienes \" + edad + \" años.\");\n",
    "\n",
    "reader.close();"
   ]
  },
  {
   "cell_type": "markdown",
   "metadata": {},
   "source": [
    "### Clase `Console`\n",
    "La clase `Console` de `java.io` es útil para aplicaciones de consola, pero no funciona en todos los entornos (por ejemplo, IDEs)."
   ]
  },
  {
   "cell_type": "code",
   "execution_count": null,
   "metadata": {},
   "outputs": [],
   "source": [
    "import java.io.Console;\n",
    "\n",
    "Console console = System.console();\n",
    "\n",
    "if (console != null) {\n",
    "    String nombre = console.readLine(\"Introduce tu nombre: \");\n",
    "    int edad = Integer.parseInt(console.readLine(\"Introduce tu edad: \"));\n",
    "\n",
    "    System.out.println(\"Hola \" + nombre + \", tienes \" + edad + \" años.\");\n",
    "} else {\n",
    "    System.out.println(\"No se puede obtener la consola.\");\n",
    "}"
   ]
  }
 ],
 "metadata": {
  "kernelspec": {
   "display_name": "Java",
   "language": "java",
   "name": "java"
  },
  "language_info": {
   "codemirror_mode": "java",
   "file_extension": ".jshell",
   "mimetype": "text/x-java-source",
   "name": "java",
   "pygments_lexer": "java",
   "version": "17.0.10+7"
  }
 },
 "nbformat": 4,
 "nbformat_minor": 2
}
